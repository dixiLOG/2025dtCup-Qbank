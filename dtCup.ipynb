{
 "cells": [
  {
   "cell_type": "markdown",
   "id": "c75c0918",
   "metadata": {},
   "source": [
    "# 大唐杯题库提取"
   ]
  },
  {
   "cell_type": "markdown",
   "id": "29e9473d",
   "metadata": {},
   "source": [
    "## 必要的库"
   ]
  },
  {
   "cell_type": "code",
   "execution_count": null,
   "id": "87a052d0",
   "metadata": {},
   "outputs": [],
   "source": [
    "import os\n",
    "from bs4 import BeautifulSoup\n",
    "import pandas as pd"
   ]
  },
  {
   "cell_type": "markdown",
   "id": "027029b9",
   "metadata": {},
   "source": [
    "## 读取"
   ]
  },
  {
   "cell_type": "code",
   "execution_count": 54,
   "id": "00b4cd48",
   "metadata": {},
   "outputs": [],
   "source": [
    "# 读取 HTML 文件\n",
    "html_file = r'.\\Qbank.html'\n",
    "with open(html_file, 'r', encoding='utf-8') as file:\n",
    "    soup = BeautifulSoup(file, 'html.parser')\n",
    "\n",
    "data = []"
   ]
  },
  {
   "cell_type": "markdown",
   "id": "4c042a15",
   "metadata": {},
   "source": [
    "## 特征数据蒸馏"
   ]
  },
  {
   "cell_type": "code",
   "execution_count": 55,
   "id": "493baea2",
   "metadata": {},
   "outputs": [],
   "source": [
    "\n",
    "# 提取所有问题容器\n",
    "question_blocks = soup.select('div.pr.pos_fl12.yxt-col.yxt-col-23')\n",
    "\n",
    "# 提取所有选项容器（与问题容器一一对应）\n",
    "option_blocks = soup.select('div[role=\"radiogroup\"], div[role=\"group\"]')\n",
    "\n",
    "# 确保问题和选项一一对应\n",
    "if len(question_blocks) != len(option_blocks):\n",
    "    print(\"警告：问题数量与选项数量不匹配！请检查HTML结构。\")\n",
    "    # 为了避免错位，截取匹配的部分\n",
    "    min_length = min(len(question_blocks), len(option_blocks))\n",
    "    question_blocks = question_blocks[:min_length]\n",
    "    option_blocks = option_blocks[:min_length]\n",
    "\n",
    "# 遍历问题和选项\n",
    "for i, (question, options) in enumerate(zip(question_blocks, option_blocks)):\n",
    "    # 提取问题文本\n",
    "    question_text = question.find('span', {'data-rich-text': '1'}).get_text(strip=True)\n",
    "\n",
    "    # 提取选项\n",
    "    option_texts = []\n",
    "    for label in options.select('label'):\n",
    "        # 提取选项内容\n",
    "        option_label = label.find('span', {'data-rich-text': '1'})\n",
    "        if option_label:\n",
    "            option_texts.append(option_label.get_text(strip=True))\n",
    "        else:\n",
    "            option_texts.append('')\n",
    "\n",
    "    # 提取答案和考点\n",
    "    answer_section = question.find_next('div', class_='yxtulcdsdk-review-tag')\n",
    "    answer_text = '无'\n",
    "    key_point = '无'\n",
    "\n",
    "    if answer_section:\n",
    "        # 使用标签文本精准定位\n",
    "        for item in answer_section.select('div.mv16'):\n",
    "            tag = item.find('span', class_='yxtulcdsdk-pc-marking-tag')\n",
    "            if not tag:\n",
    "                continue\n",
    "\n",
    "            if tag.get_text(strip=True) == '答案':\n",
    "                answer_text = item.find('span', class_='color-gray-9').get_text(strip=True) or '无'\n",
    "            elif tag.get_text(strip=True) == '考点':\n",
    "                key_point = item.find('span', class_='color-gray-9').get_text(strip=True) or '无'\n",
    "\n",
    "    # 判断题型\n",
    "    if answer_text in ['正确', '错误']:\n",
    "        question_type = '判断'\n",
    "    elif options.get('role') == 'radiogroup':\n",
    "        question_type = '单选'\n",
    "    else:\n",
    "        question_type = '多选'\n",
    "\n",
    "    # 补齐4个选项（仅对单选题和多选题有效）\n",
    "    if question_type != '判断':\n",
    "        option_texts += [''] * (4 - len(option_texts))\n",
    "\n",
    "    # 生成“答案速查”列\n",
    "    if question_type == '判断':\n",
    "        answer_lookup = answer_text  # 判断题直接使用答案\n",
    "    elif question_type == '单选':\n",
    "        # 单选题根据答案找到对应选项\n",
    "        try:\n",
    "            answer_lookup = option_texts[ord(answer_text) - ord('A')] if answer_text in ['A', 'B', 'C', 'D'] else '无'\n",
    "        except (IndexError, ValueError):\n",
    "            answer_lookup = '无'\n",
    "    else:  # 多选题\n",
    "        # 多选题可能有多个答案，用分号分隔\n",
    "        try:\n",
    "            if not answer_text.strip():  # 如果答案为空\n",
    "                answer_lookup = '无'\n",
    "            else:\n",
    "                # 检查是否为全选\n",
    "                selected_answers = [ans.strip() for ans in answer_text.split('、') if ans.strip() in ['A', 'B', 'C', 'D']]\n",
    "                if set(selected_answers) == {'A', 'B', 'C', 'D'}:\n",
    "                    answer_lookup = '全选'\n",
    "                else:\n",
    "                    # 确保答案格式正确，并逐一解析\n",
    "                    answer_lookup = ';'.join(\n",
    "                        [option_texts[ord(ans) - ord('A')] for ans in selected_answers]\n",
    "                    )\n",
    "        except (IndexError, ValueError):\n",
    "            answer_lookup = '无'\n",
    "\n",
    "    # 添加到数据列表\n",
    "    data.append({\n",
    "        '考点': key_point,\n",
    "        '题型': question_type,\n",
    "        '问题': question_text,\n",
    "        'A选项': option_texts[0] if len(option_texts) > 0 else '',\n",
    "        'B选项': option_texts[1] if len(option_texts) > 1 else '',\n",
    "        'C选项': option_texts[2] if len(option_texts) > 2 else '',\n",
    "        'D选项': option_texts[3] if len(option_texts) > 3 else '',\n",
    "        '答案': answer_text,\n",
    "        '答案速查': answer_lookup\n",
    "    })"
   ]
  },
  {
   "cell_type": "markdown",
   "id": "0ca361f9",
   "metadata": {},
   "source": [
    "## 去重"
   ]
  },
  {
   "cell_type": "code",
   "execution_count": 56,
   "id": "72e017ac",
   "metadata": {},
   "outputs": [
    {
     "name": "stdout",
     "output_type": "stream",
     "text": [
      "发现重复问题数量：486\n",
      "重复率：80.33%\n"
     ]
    }
   ],
   "source": [
    "# 将 data 转换为 DataFrame\n",
    "df = pd.DataFrame(data)\n",
    "\n",
    "# 检查重复值并记录\n",
    "duplicates = df.duplicated(subset=['问题'], keep='first')\n",
    "duplicate_count = duplicates.sum()\n",
    "duplicate_rate = duplicate_count / len(df) * 100\n",
    "\n",
    "# 去重操作：只保留第一个重复项\n",
    "df = df.drop_duplicates(subset=['问题'], keep='first')\n",
    "\n",
    "# 输出重复信息\n",
    "print(f\"发现重复问题数量：{duplicate_count}\")\n",
    "print(f\"重复率：{duplicate_rate:.2f}%\")"
   ]
  },
  {
   "cell_type": "markdown",
   "id": "88b56aeb",
   "metadata": {},
   "source": [
    "## 导出"
   ]
  },
  {
   "cell_type": "code",
   "execution_count": 57,
   "id": "c4147a2a",
   "metadata": {},
   "outputs": [
    {
     "name": "stdout",
     "output_type": "stream",
     "text": [
      "Process completed! Exported to .\\output.xlsx\n"
     ]
    }
   ],
   "source": [
    "# 导出到Excel\n",
    "output_file = r'.\\output.xlsx'\n",
    "df.to_excel(output_file, index=False, engine='openpyxl')\n",
    "print(f\"Process completed! Exported to {output_file}\")"
   ]
  }
 ],
 "metadata": {
  "kernelspec": {
   "display_name": "base",
   "language": "python",
   "name": "python3"
  },
  "language_info": {
   "codemirror_mode": {
    "name": "ipython",
    "version": 3
   },
   "file_extension": ".py",
   "mimetype": "text/x-python",
   "name": "python",
   "nbconvert_exporter": "python",
   "pygments_lexer": "ipython3",
   "version": "3.11.5"
  }
 },
 "nbformat": 4,
 "nbformat_minor": 5
}
